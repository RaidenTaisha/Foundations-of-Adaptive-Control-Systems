{
 "cells": [
  {
   "cell_type": "markdown",
   "metadata": {},
   "source": [
    "# Задание 1.1 - Метод К-ближайших соседей (K-neariest neighbor classifier)\n",
    "\n",
    "В первом задании вы реализуете один из простейших алгоритмов машинного обучения - классификатор на основе метода K-ближайших соседей.\n",
    "Мы применим его к задачам\n",
    "- бинарной классификации (то есть, только двум классам)\n",
    "- многоклассовой классификации (то есть, нескольким классам)\n",
    "\n",
    "Так как методу необходим гиперпараметр (hyperparameter) - количество соседей, мы выберем его на основе кросс-валидации (cross-validation).\n",
    "\n",
    "Наша основная задача - научиться пользоваться numpy и представлять вычисления в векторном виде, а также ознакомиться с основными метриками, важными для задачи классификации.\n",
    "\n",
    "Перед выполнением задания:\n",
    "- запустите файл `download_data.sh`, чтобы скачать данные, которые мы будем использовать для тренировки\n",
    "- установите все необходимые библиотеки, запустив `pip install -r requirements.txt` (если раньше не работали с `pip`, вам сюда - https://pip.pypa.io/en/stable/quickstart/)\n",
    "\n",
    "Если вы раньше не работали с numpy, вам может помочь tutorial. Например этот:  \n",
    "http://cs231n.github.io/python-numpy-tutorial/"
   ]
  },
  {
   "cell_type": "code",
   "execution_count": 2,
   "metadata": {},
   "outputs": [],
   "source": [
    "import numpy as np\n",
    "import matplotlib.pyplot as plt\n",
    "\n",
    "%matplotlib inline\n",
    "\n",
    "%load_ext autoreload\n",
    "%autoreload 2"
   ]
  },
  {
   "cell_type": "code",
   "execution_count": 3,
   "metadata": {},
   "outputs": [],
   "source": [
    "from dataset import load_svhn\n",
    "from knn import KNN\n",
    "from metrics import binary_classification_metrics, multiclass_accuracy"
   ]
  },
  {
   "cell_type": "markdown",
   "metadata": {},
   "source": [
    "# Загрузим и визуализируем данные\n",
    "\n",
    "В задании уже дана функция `load_svhn`, загружающая данные с диска. Она возвращает данные для тренировки и для тестирования как numpy arrays.\n",
    "\n",
    "Мы будем использовать цифры из датасета Street View House Numbers (SVHN, http://ufldl.stanford.edu/housenumbers/), чтобы решать задачу хоть сколько-нибудь сложнее MNIST."
   ]
  },
  {
   "cell_type": "code",
   "execution_count": 3,
   "metadata": {},
   "outputs": [],
   "source": [
    "train_X, train_y, test_X, test_y = load_svhn(\"data\", max_train=1000, max_test=100)"
   ]
  },
  {
   "cell_type": "code",
   "execution_count": null,
   "metadata": {},
   "outputs": [],
   "source": [
    "samples_per_class = 5  # Количество изображений каждого класса для отрисовки\n",
    "plot_index = 1\n",
    "for example_index in range(samples_per_class):\n",
    "    for class_index in range(10):\n",
    "        plt.subplot(5, 10, plot_index)\n",
    "        image = train_X[train_y == class_index][example_index]\n",
    "        plt.imshow(image.astype(np.uint8))\n",
    "        plt.axis('off')\n",
    "        plot_index += 1"
   ]
  },
  {
   "cell_type": "markdown",
   "metadata": {},
   "source": [
    "# Сначала реализуем KNN для бинарной классификации\n",
    "\n",
    "В качестве задачи бинарной классификации мы натренируем модель, которая будет отличать цифру 0 от цифры 9."
   ]
  },
  {
   "cell_type": "code",
   "execution_count": 5,
   "metadata": {},
   "outputs": [
    {
     "name": "stdout",
     "output_type": "stream",
     "text": [
      "[0 0 0 0 0 9 0 9 0 9 0 9 0 9 0 9 0 0 0 9 0 9 0 0 0 0 9 9 9 0 0 0 9 9 0 0 9\n",
      " 0 9 0 0 9 0 0 0 0 0 0 9 0 0 9 9 0 9 0 9 9 9 0 0 9 9 9 9 9 9 9 9 0 9 9 9 9\n",
      " 0 9 9 0 0 0 0 0 0 9 0 9 0 9 9 9 0 9 0 9 0 9 9 0 0 9 0 9 0 9 0 0 9 0 9 0 9\n",
      " 9 9 0 9 0 0 0 0 0 0]\n"
     ]
    }
   ],
   "source": [
    "binary_train_mask = (train_y == 0) | (train_y == 9)\n",
    "binary_train_y = train_y[binary_train_mask]\n",
    "print(binary_train_y)"
   ]
  },
  {
   "cell_type": "code",
   "execution_count": 6,
   "metadata": {},
   "outputs": [],
   "source": [
    "# Для начала подготовим изображения цифр и к какому классу они принадлежат\n",
    "\n",
    "# Выберем только нули и девятки\n",
    "binary_train_mask = (train_y == 0) | (train_y == 9)\n",
    "binary_train_X = train_X[binary_train_mask]\n",
    "binary_train_y = train_y[binary_train_mask] == 0    #массив train true-0 и false-9\n",
    "\n",
    "binary_test_mask = (test_y == 0) | (test_y == 9)\n",
    "binary_test_X = test_X[binary_test_mask]\n",
    "binary_test_y = test_y[binary_test_mask] == 0       #массив test true-0 и false-9\n",
    "\n",
    "# Используем функцию reshape для приведения каждого изображения к одномерному массиву [num_samples, 32*32*3]\n",
    "binary_train_X = binary_train_X.reshape(binary_train_X.shape[0], -1)\n",
    "binary_test_X = binary_test_X.reshape(binary_test_X.shape[0], -1)"
   ]
  },
  {
   "cell_type": "code",
   "execution_count": 23,
   "metadata": {},
   "outputs": [],
   "source": [
    "# Создадим классификатор и вызовем функцию fit для обучения модели\n",
    "# KNN запомнит все данные\n",
    "knn_classifier = KNN()\n",
    "knn_classifier.fit(binary_train_X, binary_train_y)"
   ]
  },
  {
   "attachments": {
    "image.png": {
     "image/png": "[encoded data removed]"
    }
   },
   "cell_type": "markdown",
   "metadata": {},
   "source": [
    "Последовательно реализуем функции `compute_distances_two_loops`, `compute_distances_one_loop` и `compute_distances_no_loops`\n",
    "в файле `knn.py`.\n",
    "\n",
    "Эти функции строят массив расстояний между всеми векторами в тестовом наборе и в тренировочном наборе.  \n",
    "В результате они должны построить массив размера `(num_test, num_train)`, где координата `[i][j]` соотвествует расстоянию между i-м вектором в test (`test[i]`) и j-м вектором в train (`train[j]`).\n",
    "\n",
    "**Обратите внимание** Для простоты реализации мы будем использовать в качестве расстояния меру L1 (ее еще называют [Manhattan distance](https://ru.wikipedia.org/wiki/%D0%A0%D0%B0%D1%81%D1%81%D1%82%D0%BE%D1%8F%D0%BD%D0%B8%D0%B5_%D0%B3%D0%BE%D1%80%D0%BE%D0%B4%D1%81%D0%BA%D0%B8%D1%85_%D0%BA%D0%B2%D0%B0%D1%80%D1%82%D0%B0%D0%BB%D0%BE%D0%B2)).\n",
    "\n",
    "![image.png](attachment:image.png)"
   ]
  },
  {
   "cell_type": "code",
   "execution_count": 24,
   "metadata": {},
   "outputs": [],
   "source": [
    "# Посчитаем растояния при помощи функции compute_distances_two_loops в knn.py\n",
    "dists = knn_classifier.compute_distances_two_loops(binary_test_X)\n",
    "assert np.isclose(dists[0, 10], np.sum(np.abs(binary_test_X[0] - binary_train_X[10])))"
   ]
  },
  {
   "cell_type": "code",
   "execution_count": null,
   "metadata": {},
   "outputs": [],
   "source": [
    "# TODO: Дополнительное задание - реализуйте функцию compute_distances_one_loop в knn.py\n",
    "dists = knn_classifier.compute_distances_one_loop(binary_test_X)\n",
    "assert np.isclose(dists[0, 10], np.sum(np.abs(binary_test_X[0] - binary_train_X[10])))"
   ]
  },
  {
   "cell_type": "code",
   "execution_count": null,
   "metadata": {},
   "outputs": [],
   "source": [
    "# TODO: Дополнительное задание - реализуйте функцию compute_distances_no_loops в knn.py\n",
    "dists = knn_classifier.compute_distances_no_loops(binary_test_X)\n",
    "assert np.isclose(dists[0, 10], np.sum(np.abs(binary_test_X[0] - binary_train_X[10])))\n"
   ]
  },
  {
   "cell_type": "code",
   "execution_count": null,
   "metadata": {},
   "outputs": [],
   "source": [
    "# Дополнительное задание - сравните время вычислений с циклами и без.\n",
    "%timeit knn_classifier.compute_distances_two_loops(binary_test_X)\n",
    "%timeit knn_classifier.compute_distances_one_loop(binary_test_X)\n",
    "%timeit knn_classifier.compute_distances_no_loops(binary_test_X)"
   ]
  },
  {
   "cell_type": "code",
   "execution_count": 25,
   "metadata": {},
   "outputs": [
    {
     "name": "stdout",
     "output_type": "stream",
     "text": [
      "[ True False False False  True False False  True False False False  True\n",
      " False False False False]\n"
     ]
    }
   ],
   "source": [
    "# Сделаем предсказание при помощи функции predict_labels_binary в knn.py\n",
    "prediction = knn_classifier.predict(binary_test_X)\n",
    "print(prediction)"
   ]
  },
  {
   "cell_type": "code",
   "execution_count": 12,
   "metadata": {},
   "outputs": [
    {
     "name": "stdout",
     "output_type": "stream",
     "text": [
      "KNN with k = 1\n",
      "Accuracy: 0.25, Precision: 0.50, Recall: 0.17, F1: 0.25\n"
     ]
    }
   ],
   "source": [
    "# Найдем метрики предсказания при помощи функции binary_classification_metrics в metrics.py\n",
    "precision, recall, f1, accuracy = binary_classification_metrics(prediction, binary_test_y)\n",
    "print(\"KNN with k = %s\" % knn_classifier.k)\n",
    "print(\"Accuracy: %4.2f, Precision: %4.2f, Recall: %4.2f, F1: %4.2f\" % (accuracy, precision, recall, f1)) "
   ]
  },
  {
   "cell_type": "code",
   "execution_count": 13,
   "metadata": {},
   "outputs": [
    {
     "name": "stdout",
     "output_type": "stream",
     "text": [
      "KNN with k = 5\n",
      "Accuracy: 0.50, Precision: 0.75, Recall: 0.50, F1: 0.60\n"
     ]
    }
   ],
   "source": [
    "# Проверим работу реализованых функций для K = 3\n",
    "knn_classifier_3 = KNN(k=5)\n",
    "knn_classifier_3.fit(binary_train_X, binary_train_y)\n",
    "prediction = knn_classifier_3.predict(binary_test_X, 2)\n",
    "\n",
    "precision, recall, f1, accuracy = binary_classification_metrics(prediction, binary_test_y)\n",
    "print(\"KNN with k = %s\" % knn_classifier_3.k)\n",
    "print(\"Accuracy: %4.2f, Precision: %4.2f, Recall: %4.2f, F1: %4.2f\" % (accuracy, precision, recall, f1)) "
   ]
  },
  {
   "cell_type": "markdown",
   "metadata": {},
   "source": [
    "# Кросс-валидация (cross-validation)\n",
    "\n",
    "Попробуем найти лучшее значение параметра k для алгоритма KNN! \n",
    "\n",
    "Для этого мы воспользуемся k-fold cross-validation (https://en.wikipedia.org/wiki/Cross-validation_(statistics)#k-fold_cross-validation). Мы разделим тренировочные данные на 5 фолдов (folds), и по очереди будем использовать каждый из них в качестве проверочных данных (validation data), а остальные -- в качестве тренировочных (training data).\n",
    "\n",
    "В качестве финальной оценки эффективности k мы усредним значения F1 score на всех фолдах.\n",
    "После этого мы просто выберем значение k с лучшим значением метрики.\n",
    "\n",
    "*Бонус*: есть ли другие варианты агрегировать F1 score по всем фолдам? Напишите плюсы и минусы в клетке ниже."
   ]
  },
  {
   "cell_type": "code",
   "execution_count": 14,
   "metadata": {},
   "outputs": [
    {
     "name": "stdout",
     "output_type": "stream",
     "text": [
      "k = 1, f1 = 0.280381\n",
      "k = 2, f1 = 0.530060\n",
      "k = 3, f1 = 0.213835\n",
      "k = 5, f1 = 0.509342\n",
      "k = 8, f1 = 0.637960\n",
      "k = 10, f1 = 0.666404\n",
      "k = 15, f1 = 0.508034\n",
      "k = 20, f1 = 0.636780\n",
      "k = 25, f1 = 0.620357\n",
      "k = 50, f1 = 0.606564\n"
     ]
    }
   ],
   "source": [
    "# Найдем лучшее k используя кросс-валидацию на основе метрики F1\n",
    "num_folds = 5\n",
    "train_folds_X = []\n",
    "train_folds_y = []\n",
    "\n",
    "# Разделим тренировочные данные на 5 фолдов и сохраним их в train_folds_X/train_folds_y\n",
    "trunc_binary_train_X = binary_train_X[0 : (np.size(binary_train_X, axis=0) - np.size(binary_train_X, axis=0) % 5), :]\n",
    "trunc_binary_train_y = binary_train_y[0 : (np.size(binary_train_y, axis=0) - np.size(binary_train_y, axis=0) % 5)]\n",
    "train_folds_X = np.stack(np.array_split(trunc_binary_train_X, num_folds))\n",
    "train_folds_y = np.stack(np.array_split(trunc_binary_train_y, num_folds))\n",
    "\n",
    "k_choices = [1, 2, 3, 5, 8, 10, 15, 20, 25, 50]\n",
    "k_to_f1 = {}  # словарь, объединяющий значения k и соответствующие средние значения F1 (int -> float)\n",
    "average_f1 = 0\n",
    "for k in k_choices:\n",
    "    # Выполним кросс-валидацию\n",
    "    # Пройдем через каждый из фолдов и используем их для тестирования, а все остальные для валидации\n",
    "    # Выполним обучение и определим метрику F1 на фолде для валидации\n",
    "    # Усредним метрику F1 и запишем ее в k_to_f1\n",
    "    knn_classifier_cross = KNN(k=k)\n",
    "    for l in range(num_folds):\n",
    "        knn_classifier_cross.fit(np.concatenate(np.delete(train_folds_X, l, axis=0)), np.concatenate(np.delete(train_folds_y, l, axis=0)))\n",
    "        prediction = knn_classifier_cross.predict(train_folds_X[l,:,:])\n",
    "        precision, recall, f1, accuracy = binary_classification_metrics(prediction, train_folds_y[l,:])\n",
    "        average_f1 += f1 \n",
    "    k_to_f1[k] = average_f1 / num_folds\n",
    "    average_f1 = 0\n",
    "\n",
    "for k in sorted(k_to_f1):\n",
    "    print('k = %d, f1 = %f' % (k, k_to_f1[k]))"
   ]
  },
  {
   "cell_type": "markdown",
   "metadata": {},
   "source": [
    "### Проверим, как хорошо работает лучшее значение k на тестовых данных (test data)"
   ]
  },
  {
   "cell_type": "code",
   "execution_count": 15,
   "metadata": {},
   "outputs": [
    {
     "name": "stdout",
     "output_type": "stream",
     "text": [
      "Best KNN with k = 10\n",
      "Accuracy: 0.75, Precision: 0.75, Recall: 1.00, F1: 0.86\n"
     ]
    }
   ],
   "source": [
    "# TODO: Установите лучший k, найденный при кросс-валидации\n",
    "best_k = 10\n",
    "\n",
    "best_knn_classifier = KNN(k=best_k)\n",
    "best_knn_classifier.fit(binary_train_X, binary_train_y)\n",
    "prediction = best_knn_classifier.predict(binary_test_X)\n",
    "\n",
    "precision, recall, f1, accuracy = binary_classification_metrics(prediction, binary_test_y)\n",
    "print(\"Best KNN with k = %s\" % best_k)\n",
    "print(\"Accuracy: %4.2f, Precision: %4.2f, Recall: %4.2f, F1: %4.2f\" % (accuracy, precision, recall, f1)) "
   ]
  },
  {
   "cell_type": "markdown",
   "metadata": {},
   "source": [
    "# Многоклассовая классификация (multi-class classification)\n",
    "\n",
    "Переходим к следующему этапу - классификации на каждую цифру."
   ]
  },
  {
   "cell_type": "code",
   "execution_count": 43,
   "metadata": {},
   "outputs": [],
   "source": [
    "##########################################################################################\n",
    "train_X, train_y, test_X, test_y = load_svhn(\"data\", max_train=1000, max_test=100)"
   ]
  },
  {
   "cell_type": "code",
   "execution_count": 44,
   "metadata": {},
   "outputs": [],
   "source": [
    "# Теперь будем использовать все 10 классов\n",
    "train_X = train_X.reshape(train_X.shape[0], -1)\n",
    "test_X = test_X.reshape(test_X.shape[0], -1)\n",
    "\n",
    "knn_classifier = KNN(8)\n",
    "knn_classifier.fit(train_X, train_y)"
   ]
  },
  {
   "cell_type": "code",
   "execution_count": 45,
   "metadata": {},
   "outputs": [
    {
     "name": "stdout",
     "output_type": "stream",
     "text": [
      "prediction =  [2, 1, 5, 0, 4]\n",
      "test_y =      [2, 1, 3, 0, 2]\n",
      "0.6\n"
     ]
    },
    {
     "data": {
      "text/plain": [
       "'\\nground_truth = test_y\\ntp = list(map(int, np.logical_and((0 == ground_truth), (0 == prediction))))\\ntn = list(map(int, (np.logical_xor((ground_truth == prediction), np.logical_and((0 == ground_truth), (0 == prediction))))))\\nfp = list(map(int, (np.logical_and((0 != ground_truth), (0 == prediction)))))\\nfn = list(map(int, (np.logical_and((0 == ground_truth), (0 != prediction)))))\\nprint(\"tp(0) =      \", tp)\\nprint(\"tn(0) =      \", tn)\\nprint(\"fp(0) =      \", fp)\\nprint(\"fp(0) =      \", fn)\\n'"
      ]
     },
     "execution_count": 45,
     "metadata": {},
     "output_type": "execute_result"
    }
   ],
   "source": [
    "# TODO: Реализуйте функцию predict_labels_multiclass\n",
    "prediction = knn_classifier.predict(test_X)\n",
    "print(\"prediction = \", list(prediction))\n",
    "print(\"test_y =     \", list(test_y))\n",
    "print(sum(prediction == test_y) / len(test_y))\n",
    "'''\n",
    "ground_truth = test_y\n",
    "tp = list(map(int, np.logical_and((0 == ground_truth), (0 == prediction))))\n",
    "tn = list(map(int, (np.logical_xor((ground_truth == prediction), np.logical_and((0 == ground_truth), (0 == prediction))))))\n",
    "fp = list(map(int, (np.logical_and((0 != ground_truth), (0 == prediction)))))\n",
    "fn = list(map(int, (np.logical_and((0 == ground_truth), (0 != prediction)))))\n",
    "print(\"tp(0) =      \", tp)\n",
    "print(\"tn(0) =      \", tn)\n",
    "print(\"fp(0) =      \", fp)\n",
    "print(\"fp(0) =      \", fn)\n",
    "'''"
   ]
  },
  {
   "cell_type": "code",
   "execution_count": 46,
   "metadata": {},
   "outputs": [
    {
     "name": "stdout",
     "output_type": "stream",
     "text": [
      "Accuracy: 0.94\n"
     ]
    }
   ],
   "source": [
    "# TODO: Реализуйте функцию multiclass_accuracy\n",
    "accuracy = multiclass_accuracy(prediction, test_y)\n",
    "print(\"Accuracy: %4.2f\" % accuracy)"
   ]
  },
  {
   "cell_type": "markdown",
   "metadata": {},
   "source": [
    "Снова кросс-валидация. Теперь нашей основной метрикой стала точность (accuracy), и ее мы тоже будем усреднять по всем фолдам."
   ]
  },
  {
   "cell_type": "code",
   "execution_count": null,
   "metadata": {},
   "outputs": [],
   "source": [
    "# Найдите лучшее k используя кросс-валидацию основанную на точности (accuracy)\n",
    "num_folds = 5\n",
    "train_folds_X = []\n",
    "train_folds_y = []\n",
    "\n",
    "# TODO: разделите тренировочные данные на 5 фолдов и сохраните их в train_folds_X/train_folds_y\n",
    "trunc_train_X = train_X[0 : (np.size(train_X, axis=0) - np.size(train_X, axis=0) % 5), :]\n",
    "trunc_train_y = train_y[0 : (np.size(train_y, axis=0) - np.size(train_y, axis=0) % 5)]\n",
    "train_folds_X = np.stack(np.array_split(trunc_train_X, num_folds))\n",
    "train_folds_y = np.stack(np.array_split(trunc_train_y, num_folds))\n",
    "\n",
    "k_choices = [1, 2, 3, 5, 8, 10, 15, 20, 25, 50]\n",
    "k_to_accuracy = {}\n",
    "average_accuracy = 0\n",
    "for k in k_choices:\n",
    "    # TODO: проведите кросс-валидацию\n",
    "    # Пройдите через каждый из фолдов и используйте их для тестирования, а все остальные для валидации\n",
    "    # Выполните обучение и определите точность (accuracy) на фолде для валидации\n",
    "    # Усредните точность (accuracy) по всем фолдам и запишите в k_to_accuracy\n",
    "    knn_classifier_cross = KNN(k=k)\n",
    "    for l in range(num_folds):\n",
    "        knn_classifier_cross.fit(np.concatenate(np.delete(train_folds_X, l, axis=0)), np.concatenate(np.delete(train_folds_y, l, axis=0)))\n",
    "        prediction = knn_classifier_cross.predict(train_folds_X[l,:,:])\n",
    "        accuracy = multiclass_accuracy(prediction, train_folds_y[l,:])\n",
    "        average_accuracy += accuracy \n",
    "    k_to_accuracy[k] = average_accuracy / num_folds\n",
    "    average_accuracy = 0\n",
    "\n",
    "for k in sorted(k_to_accuracy):\n",
    "    print('k = %d, accuracy = %f' % (k, k_to_accuracy[k]))"
   ]
  },
  {
   "cell_type": "markdown",
   "metadata": {},
   "source": [
    "### Финальный тест - классификация на 10 классов на тестовой выборке (test data)\n",
    "\n",
    "Если все реализовано правильно, вы должны увидеть точность не менее **0.2**."
   ]
  },
  {
   "cell_type": "code",
   "execution_count": null,
   "metadata": {},
   "outputs": [],
   "source": [
    "# TODO Установите лучший k из вычисленных при кросс-валидации\n",
    "best_k = 1\n",
    "\n",
    "best_knn_classifier = KNN(k=best_k)\n",
    "best_knn_classifier.fit(train_X, train_y)\n",
    "prediction = best_knn_classifier.predict(test_X)\n",
    "\n",
    "# Accuracy должна быль не менее 20%!\n",
    "accuracy = multiclass_accuracy(prediction, test_y)\n",
    "print(\"Accuracy: %4.2f\" % accuracy)"
   ]
  },
  {
   "cell_type": "code",
   "execution_count": null,
   "metadata": {},
   "outputs": [],
   "source": []
  }
 ],
 "metadata": {
  "kernelspec": {
   "display_name": "Python 3 (ipykernel)",
   "language": "python",
   "name": "python3"
  },
  "language_info": {
   "codemirror_mode": {
    "name": "ipython",
    "version": 3
   },
   "file_extension": ".py",
   "mimetype": "text/x-python",
   "name": "python",
   "nbconvert_exporter": "python",
   "pygments_lexer": "ipython3",
   "version": "3.8.10"
  }
 },
 "nbformat": 4,
 "nbformat_minor": 2
}
